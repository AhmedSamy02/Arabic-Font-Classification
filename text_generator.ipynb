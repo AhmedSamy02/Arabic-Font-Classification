{
 "cells": [
  {
   "cell_type": "markdown",
   "metadata": {},
   "source": [
    "## Imports"
   ]
  },
  {
   "cell_type": "code",
   "execution_count": null,
   "metadata": {},
   "outputs": [],
   "source": [
    "import pyautogui\n",
    "import time\n",
    "from PIL import ImageGrab\n",
    "\n"
   ]
  },
  {
   "cell_type": "markdown",
   "metadata": {},
   "source": [
    "## Functions"
   ]
  },
  {
   "cell_type": "code",
   "execution_count": null,
   "metadata": {},
   "outputs": [],
   "source": [
    "def generate_text_with_font(text, font_name):\n",
    "    # Open your graphics editing program or text editor\n",
    "    # Adjust the coordinates and actions according to your program\n",
    "    # This is just a general example using pyautogui\n",
    "    pyautogui.click(100, 100)  # Click on the area where you want to type\n",
    "    pyautogui.write(text, interval=0.1)  # Type the text\n",
    "    # Select the font\n",
    "    pyautogui.hotkey('ctrl', 'a')  # Select all text\n",
    "    pyautogui.hotkey('ctrl', 't')  # Open font selection dialog (example hotkey)\n",
    "    # Use pyautogui.typewrite() to navigate through the font selection dialog\n",
    "    # and select the desired font\n",
    "\n",
    "def take_screenshot():\n",
    "    # Adjust the coordinates to cover the area of the generated text\n",
    "    screenshot = ImageGrab.grab(bbox=(0, 0, 800, 600))\n",
    "    screenshot.save(\"generated_text_screenshot.png\")"
   ]
  },
  {
   "cell_type": "markdown",
   "metadata": {},
   "source": [
    "## Generate"
   ]
  },
  {
   "cell_type": "code",
   "execution_count": null,
   "metadata": {},
   "outputs": [],
   "source": [
    "\n",
    "text = \"Hello, World!\"\n",
    "font_name = \"Arial\"  # Change this to your desired font\n",
    "generate_text_with_font(text, font_name)\n",
    "time.sleep(2)  # Adjust sleep time according to your program's response time\n",
    "take_screenshot()"
   ]
  }
 ],
 "metadata": {
  "language_info": {
   "name": "python"
  }
 },
 "nbformat": 4,
 "nbformat_minor": 2
}
