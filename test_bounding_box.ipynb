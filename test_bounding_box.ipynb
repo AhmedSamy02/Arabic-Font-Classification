{
 "cells": [
  {
   "cell_type": "code",
   "execution_count": 9,
   "metadata": {},
   "outputs": [],
   "source": [
    "import cv2\n",
    "import numpy as np\n",
    "from skimage.filters import median\n",
    "import os\n",
    "kernel = cv2.getStructuringElement(cv2.MORPH_ERODE, (10,4))\n"
   ]
  },
  {
   "cell_type": "code",
   "execution_count": 10,
   "metadata": {},
   "outputs": [],
   "source": [
    "def load_images_from_directory(directory):\n",
    "    images = []\n",
    "    count=0\n",
    "    for filename in os.listdir(directory):\n",
    "        if filename.endswith(\".jpeg\") or filename.endswith(\".png\"):\n",
    "            count+=1\n",
    "            img = cv2.imread(os.path.join(directory, filename))\n",
    "            if img is not None:\n",
    "                images.append(img)\n",
    "    print(\"Got \"+str(count)+\" images\")\n",
    "    return images\n",
    "def threshold_image(image):\n",
    "    gray_image = cv2.cvtColor(image, cv2.COLOR_BGR2GRAY)\n",
    "    # gray_image = cv2.GaussianBlur(gray_image, (3, 3), 1)\n",
    "    gray_image = cv2.medianBlur(gray_image,3)\n",
    "    _, thresholded_image = cv2.threshold(gray_image, 127, 255, cv2.THRESH_BINARY)\n",
    "    l,w = thresholded_image.shape\n",
    "    l=l//2\n",
    "    w=w//2\n",
    "    count=0\n",
    "    if thresholded_image[l-1,w-1]!=0:\n",
    "        count+=1\n",
    "    if thresholded_image[10,10]!=0:\n",
    "        count+=1\n",
    "    if thresholded_image[10,w-1]!=0:\n",
    "        count+=1\n",
    "    if thresholded_image[l-1,10]!=0:\n",
    "        count+=1\n",
    "    if count>=2:\n",
    "        thresholded_image = cv2.bitwise_not(thresholded_image)\n",
    "    return thresholded_image\n",
    "def find_contours(thresholded_image,dilated_image,path,count):\n",
    "    cnts = cv2.findContours(dilated_image, cv2.RETR_EXTERNAL, cv2.CHAIN_APPROX_SIMPLE)\n",
    "    length,width= dilated_image.shape\n",
    "    cnts = cnts[0] if len(cnts) == 2 else cnts[1]\n",
    "    # temp_image = image.copy()\n",
    "    for c in cnts:\n",
    "        x,y,w,h = cv2.boundingRect(c)\n",
    "        ## Remove bounding\n",
    "        if len(cnts)!=1:\n",
    "            if x==0 and y==0:\n",
    "                continue\n",
    "            elif x+w==width and y+h==length:\n",
    "                continue\n",
    "            elif x+w ==width and y==0:\n",
    "                continue\n",
    "            elif x==0 and y+h==length:\n",
    "                continue\n",
    "        if w<120 or h<25:\n",
    "            continue\n",
    "        # cv2.rectangle(image, (x, y), (x + w, y + h), (255,255,0), 2)\n",
    "        # cv2.imwrite(path+str(count)+'.jpeg', thresholded_image[y:y+h,x:x+w])\n",
    "        cv2.imshow('image',thresholded_image[y:y+h,x:x+w])\n",
    "        cv2.waitKey(0)\n",
    "        cv2.destroyAllWindows()\n",
    "        count+=1\n",
    "    return count"
   ]
  },
  {
   "cell_type": "code",
   "execution_count": 11,
   "metadata": {},
   "outputs": [],
   "source": [
    "# images = load_images_from_directory('images/generated_train/Scheherazade_New')"
   ]
  },
  {
   "cell_type": "code",
   "execution_count": 12,
   "metadata": {},
   "outputs": [
    {
     "name": "stdout",
     "output_type": "stream",
     "text": [
      "Processing image 1\n"
     ]
    }
   ],
   "source": [
    "images = [cv2.imread('images/test_output/test-image-7.png')]\n",
    "count=0\n",
    "imageCount = 1\n",
    "for image in images:\n",
    "    print(\"Processing image \"+str(imageCount))\n",
    "    imageCount+=1\n",
    "    thresholded_image = threshold_image(image)\n",
    "    dilated_image = cv2.dilate(thresholded_image, kernel, iterations=4)\n",
    "    cv2.imshow('image', dilated_image)\n",
    "    cv2.waitKey(0)\n",
    "    cv2.destroyAllWindows()\n",
    "    count= find_contours(thresholded_image,dilated_image,'images/cropped_generated_train/Scheherazade_New/',count)\n",
    "# cv2.imshow('image', dilated_image)\n",
    "# cv2.waitKey(0)\n",
    "# cv2.destroyAllWindows()"
   ]
  }
 ],
 "metadata": {
  "kernelspec": {
   "display_name": "Python 3",
   "language": "python",
   "name": "python3"
  },
  "language_info": {
   "codemirror_mode": {
    "name": "ipython",
    "version": 3
   },
   "file_extension": ".py",
   "mimetype": "text/x-python",
   "name": "python",
   "nbconvert_exporter": "python",
   "pygments_lexer": "ipython3",
   "version": "3.10.11"
  }
 },
 "nbformat": 4,
 "nbformat_minor": 2
}
