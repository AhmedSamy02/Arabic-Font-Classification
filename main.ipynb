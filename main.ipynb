{
 "cells": [
  {
   "cell_type": "markdown",
   "metadata": {},
   "source": [
    "## Imports and Constants"
   ]
  },
  {
   "cell_type": "code",
   "execution_count": 1,
   "metadata": {},
   "outputs": [],
   "source": [
    "import pickle\n",
    "import cv2\n",
    "import numpy as np\n",
    "from correct_orientation import *\n",
    "from crop_image import *\n",
    "from lpq import *\n",
    "pytesseract.pytesseract.tesseract_cmd = 'C:/Program Files/Tesseract-OCR/tesseract.exe'\n"
   ]
  },
  {
   "cell_type": "code",
   "execution_count": 2,
   "metadata": {},
   "outputs": [],
   "source": [
    "lpq = LPQ(5)\n",
    "input_root_folder = 'images/test/'\n",
    "output_root_folder='images/test_output/'\n",
    "cropped_root_folder='images/test_output/cropped/'\n",
    "model_path='random_99.pkl'"
   ]
  },
  {
   "cell_type": "markdown",
   "metadata": {},
   "source": [
    "## Loading Model"
   ]
  },
  {
   "cell_type": "code",
   "execution_count": 3,
   "metadata": {},
   "outputs": [],
   "source": [
    "model = pickle.load(open(model_path, 'rb'))"
   ]
  },
  {
   "cell_type": "markdown",
   "metadata": {},
   "source": [
    "## Reading and Processing Images"
   ]
  },
  {
   "cell_type": "code",
   "execution_count": 4,
   "metadata": {},
   "outputs": [
    {
     "name": "stdout",
     "output_type": "stream",
     "text": [
      "Processing images/test/test_image.jpeg...\n",
      "angle: 0.0\n",
      "Error: (1, 'Tesseract Open Source OCR Engine v5.0.0-alpha.20210506 with Leptonica Estimating resolution as 445 Too few characters. Skipping this page Warning. Invalid resolution 0 dpi. Using 70 instead. Too few characters. Skipping this page Error during processing.')\n",
      "Processing images/test/test_output\\0.jpeg...\n",
      "angle: 0.0\n",
      "Error: (1, 'Tesseract Open Source OCR Engine v5.0.0-alpha.20210506 with Leptonica Estimating resolution as 445 Too few characters. Skipping this page Warning. Invalid resolution 0 dpi. Using 70 instead. Too few characters. Skipping this page Error during processing.')\n",
      "Processing images/test/test_output\\test_image.jpeg...\n",
      "angle: 0.0\n",
      "Error: (1, 'Tesseract Open Source OCR Engine v5.0.0-alpha.20210506 with Leptonica Estimating resolution as 445 Too few characters. Skipping this page Warning. Invalid resolution 0 dpi. Using 70 instead. Too few characters. Skipping this page Error during processing.')\n",
      "Processing images/test/test_output\\test_output\\0.jpeg...\n",
      "angle: 0.0\n",
      "Error: (1, 'Tesseract Open Source OCR Engine v5.0.0-alpha.20210506 with Leptonica Estimating resolution as 445 Too few characters. Skipping this page Warning. Invalid resolution 0 dpi. Using 70 instead. Too few characters. Skipping this page Error during processing.')\n",
      "Processing images/test/test_output\\test_output\\test_image.jpeg...\n",
      "angle: 0.0\n",
      "Error: (1, 'Tesseract Open Source OCR Engine v5.0.0-alpha.20210506 with Leptonica Estimating resolution as 445 Too few characters. Skipping this page Warning. Invalid resolution 0 dpi. Using 70 instead. Too few characters. Skipping this page Error during processing.')\n",
      "Processing images/test/test_output\\test_output\\test_output\\0.jpeg...\n",
      "angle: 0.0\n",
      "Error: (1, 'Tesseract Open Source OCR Engine v5.0.0-alpha.20210506 with Leptonica Estimating resolution as 445 Too few characters. Skipping this page Warning. Invalid resolution 0 dpi. Using 70 instead. Too few characters. Skipping this page Error during processing.')\n",
      "Processing images/test/test_output\\test_output\\test_output\\test_image.jpeg...\n",
      "angle: 0.0\n",
      "Error: (1, 'Tesseract Open Source OCR Engine v5.0.0-alpha.20210506 with Leptonica Estimating resolution as 445 Too few characters. Skipping this page Warning. Invalid resolution 0 dpi. Using 70 instead. Too few characters. Skipping this page Error during processing.')\n",
      "Got 1 images\n",
      "Processing image 1\n"
     ]
    }
   ],
   "source": [
    "process_images_in_folder(input_root_folder, output_root_folder)\n",
    "crop_image(output_root_folder,cropped_root_folder)"
   ]
  },
  {
   "cell_type": "markdown",
   "metadata": {},
   "source": [
    "## Classify Font"
   ]
  },
  {
   "cell_type": "code",
   "execution_count": 5,
   "metadata": {},
   "outputs": [
    {
     "name": "stdout",
     "output_type": "stream",
     "text": [
      "Got 1 images\n",
      "[3]\n",
      "-----------------\n"
     ]
    }
   ],
   "source": [
    "images = load_images_from_directory(cropped_root_folder)\n",
    "\n",
    "for image in images:\n",
    "    \n",
    "    features = []\n",
    "    image = cv2.cvtColor(image, cv2.COLOR_BGR2GRAY)\n",
    "    _,image =cv2.threshold(image, 127, 255, cv2.THRESH_BINARY)\n",
    "    features.append(lpq.__call__(image))\n",
    "    prediction = model.predict(features)\n",
    "    print(prediction)\n",
    "    print('-----------------')"
   ]
  }
 ],
 "metadata": {
  "kernelspec": {
   "display_name": "Python 3",
   "language": "python",
   "name": "python3"
  },
  "language_info": {
   "codemirror_mode": {
    "name": "ipython",
    "version": 3
   },
   "file_extension": ".py",
   "mimetype": "text/x-python",
   "name": "python",
   "nbconvert_exporter": "python",
   "pygments_lexer": "ipython3",
   "version": "3.10.11"
  }
 },
 "nbformat": 4,
 "nbformat_minor": 2
}
