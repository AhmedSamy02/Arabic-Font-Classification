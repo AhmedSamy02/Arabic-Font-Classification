{
 "cells": [
  {
   "cell_type": "markdown",
   "metadata": {},
   "source": [
    "## Imports and Constants"
   ]
  },
  {
   "cell_type": "code",
   "execution_count": 1,
   "metadata": {},
   "outputs": [],
   "source": [
    "import pickle\n",
    "import cv2\n",
    "import numpy as np\n",
    "from correct_orientation import *\n",
    "from crop_image import *\n",
    "from lpq import *\n",
    "import time as t\n",
    "fonts = ['Marhey','Lemonada','Scheherazade','IBM']"
   ]
  },
  {
   "cell_type": "code",
   "execution_count": 2,
   "metadata": {},
   "outputs": [],
   "source": [
    "lpq = LPQ(5)\n",
    "input_Marhey_root_folder = 'images/test/Marhey/'\n",
    "input_Lemonada_root_folder = 'images/test/Lemonada/'\n",
    "input_Scheherazade_root_folder = 'images/test/Scheherazade New'\n",
    "input_IBM_root_folder = 'images/test/IBM Plex Sans Arabic/'\n",
    "output_Marhey_root_folder='images/test_output/Marhey/'\n",
    "output_Lemonada_root_folder='images/test_output/Lemonada/'\n",
    "output_Scheherazade_root_folder='images/test_output/Scheherazade/'\n",
    "output_IBM_root_folder='images/test_output/IBM/'\n",
    "cropped_root_folder='images/cropped_test_output/'\n",
    "model_path='random_99.pkl'\n"
   ]
  },
  {
   "cell_type": "markdown",
   "metadata": {},
   "source": [
    "## Loading Model"
   ]
  },
  {
   "cell_type": "code",
   "execution_count": 3,
   "metadata": {},
   "outputs": [],
   "source": [
    "model = pickle.load(open(model_path, 'rb'))"
   ]
  },
  {
   "cell_type": "markdown",
   "metadata": {},
   "source": [
    "## Reading and Processing Images"
   ]
  },
  {
   "cell_type": "code",
   "execution_count": 4,
   "metadata": {},
   "outputs": [
    {
     "name": "stdout",
     "output_type": "stream",
     "text": [
      "All files deleted successfully.\n",
      "All files deleted successfully.\n",
      "All files deleted successfully.\n",
      "All files deleted successfully.\n",
      "All files deleted successfully.\n"
     ]
    }
   ],
   "source": [
    "delete_files_in_directory(output_Marhey_root_folder)\n",
    "delete_files_in_directory(output_Lemonada_root_folder)\n",
    "delete_files_in_directory(output_Scheherazade_root_folder)\n",
    "delete_files_in_directory(output_IBM_root_folder)\n",
    "delete_files_in_directory(cropped_root_folder)"
   ]
  },
  {
   "cell_type": "code",
   "execution_count": 5,
   "metadata": {},
   "outputs": [
    {
     "name": "stdout",
     "output_type": "stream",
     "text": [
      "Time Started\n",
      "Got 5 images\n",
      "Got 5 images\n",
      "Got 5 images\n",
      "Got 5 images\n",
      "Images Loaded Successfully\n",
      "Processing images/test/Marhey/1.png...\n",
      "angle: 0.0\n",
      "[OSD] {'page_num': 0, 'orientation': 0, 'rotate': 0, 'orientation_conf': 0.45, 'script': 'Arabic', 'script_conf': 2.0}\n",
      "angle: 0\n",
      "Processing images/test/Marhey/2.png...\n",
      "angle: 0.0\n",
      "[OSD] {'page_num': 0, 'orientation': 0, 'rotate': 0, 'orientation_conf': 1.96, 'script': 'Arabic', 'script_conf': 86.67}\n",
      "angle: 0\n",
      "Processing images/test/Marhey/3.png...\n",
      "angle: 0.0\n",
      "[OSD] {'page_num': 0, 'orientation': 0, 'rotate': 0, 'orientation_conf': 0.71, 'script': 'Arabic', 'script_conf': 36.67}\n",
      "angle: 0\n",
      "Processing images/test/Marhey/4.png...\n",
      "angle: 0.0\n",
      "[OSD] {'page_num': 0, 'orientation': 0, 'rotate': 0, 'orientation_conf': 1.76, 'script': 'Arabic', 'script_conf': 70.0}\n",
      "angle: 0\n",
      "Processing images/test/Marhey/5.png...\n",
      "angle: 0.0\n",
      "[OSD] {'page_num': 0, 'orientation': 0, 'rotate': 0, 'orientation_conf': 3.7, 'script': 'Arabic', 'script_conf': 56.67}\n",
      "angle: 0\n",
      "Processing images/test/Lemonada/1.png...\n",
      "angle: 0.0\n",
      "[OSD] {'page_num': 0, 'orientation': 0, 'rotate': 0, 'orientation_conf': 0.06, 'script': 'Arabic', 'script_conf': 7.14}\n",
      "angle: 0\n",
      "Processing images/test/Lemonada/2.png...\n",
      "angle: 0.0\n",
      "Error: (1, 'Tesseract Open Source OCR Engine v5.0.0-alpha.20210506 with Leptonica Estimating resolution as 716 Warning. Invalid resolution 0 dpi. Using 70 instead. Too few characters. Skipping this page Error during processing.')\n",
      "Processing images/test/Lemonada/3.png...\n",
      "angle: 0.0\n",
      "[OSD] {'page_num': 0, 'orientation': 0, 'rotate': 0, 'orientation_conf': 0.18, 'script': 'Arabic', 'script_conf': 3.33}\n",
      "angle: 0\n",
      "Processing images/test/Lemonada/4.png...\n",
      "angle: 0.0\n",
      "[OSD] {'page_num': 0, 'orientation': 0, 'rotate': 0, 'orientation_conf': 0.41, 'script': 'Arabic', 'script_conf': 26.67}\n",
      "angle: 0\n",
      "Processing images/test/Lemonada/5.png...\n",
      "angle: 0.0\n",
      "[OSD] {'page_num': 0, 'orientation': 0, 'rotate': 0, 'orientation_conf': 2.44, 'script': 'Arabic', 'script_conf': 35.0}\n",
      "angle: 0\n",
      "Processing images/test/Scheherazade New\\1.png...\n",
      "angle: 0\n",
      "[OSD] {'page_num': 0, 'orientation': 0, 'rotate': 0, 'orientation_conf': 1.22, 'script': 'Arabic', 'script_conf': 23.33}\n",
      "angle: 0\n",
      "Processing images/test/Scheherazade New\\2.png...\n",
      "angle: 0.0\n",
      "[OSD] {'page_num': 0, 'orientation': 0, 'rotate': 0, 'orientation_conf': 0.95, 'script': 'Arabic', 'script_conf': 8.1}\n",
      "angle: 0\n",
      "Processing images/test/Scheherazade New\\3.png...\n",
      "angle: 0.0\n",
      "[OSD] {'page_num': 0, 'orientation': 0, 'rotate': 0, 'orientation_conf': 4.17, 'script': 'Arabic', 'script_conf': 83.33}\n",
      "angle: 0\n",
      "Processing images/test/Scheherazade New\\4.png...\n",
      "angle: 0.0\n",
      "[OSD] {'page_num': 0, 'orientation': 0, 'rotate': 0, 'orientation_conf': 2.36, 'script': 'Arabic', 'script_conf': 2.0}\n",
      "angle: 0\n",
      "Processing images/test/Scheherazade New\\5.jpeg...\n",
      "angle: 45.0\n",
      "[OSD] {'page_num': 0, 'orientation': 0, 'rotate': 0, 'orientation_conf': 3.81, 'script': 'Arabic', 'script_conf': 43.33}\n",
      "angle: 0\n",
      "Processing images/test/IBM Plex Sans Arabic/1.png...\n",
      "angle: 0.0\n",
      "[OSD] {'page_num': 0, 'orientation': 0, 'rotate': 0, 'orientation_conf': 1.04, 'script': 'Arabic', 'script_conf': 36.67}\n",
      "angle: 0\n",
      "Processing images/test/IBM Plex Sans Arabic/2.jpeg...\n",
      "angle: 45.0\n",
      "[OSD] {'page_num': 0, 'orientation': 0, 'rotate': 0, 'orientation_conf': 0.88, 'script': 'Arabic', 'script_conf': 3.33}\n",
      "angle: 0\n",
      "Processing images/test/IBM Plex Sans Arabic/3.jpeg...\n",
      "angle: 45.0\n",
      "[OSD] {'page_num': 0, 'orientation': 0, 'rotate': 0, 'orientation_conf': 3.28, 'script': 'Arabic', 'script_conf': 13.33}\n",
      "angle: 0\n",
      "Processing images/test/IBM Plex Sans Arabic/4.png...\n",
      "angle: 0.0\n",
      "[OSD] {'page_num': 0, 'orientation': 0, 'rotate': 0, 'orientation_conf': 4.87, 'script': 'Arabic', 'script_conf': 113.33}\n",
      "angle: 0\n",
      "Processing images/test/IBM Plex Sans Arabic/5.png...\n",
      "angle: 0.0\n",
      "[OSD] {'page_num': 0, 'orientation': 0, 'rotate': 0, 'orientation_conf': 1.64, 'script': 'Arabic', 'script_conf': 53.33}\n",
      "angle: 0\n",
      "Images Processed Successfully\n",
      "Got 5 images\n",
      "Got 5 images\n",
      "Got 5 images\n",
      "Got 5 images\n",
      "Images Loaded Successfully\n"
     ]
    }
   ],
   "source": [
    "start_time = t.time()\n",
    "print('Time Started')\n",
    "original_Marhey_images = load_images_from_directory(input_Marhey_root_folder)\n",
    "original_Lemonada_images = load_images_from_directory(input_Lemonada_root_folder)\n",
    "original_Scheherazade_images = load_images_from_directory(input_Scheherazade_root_folder)\n",
    "original_IBM_images = load_images_from_directory(input_IBM_root_folder)\n",
    "print('Images Loaded Successfully')\n",
    "process_images_in_folder(input_Marhey_root_folder, output_Marhey_root_folder)\n",
    "process_images_in_folder(input_Lemonada_root_folder, output_Lemonada_root_folder)\n",
    "process_images_in_folder(input_Scheherazade_root_folder, output_Scheherazade_root_folder)\n",
    "process_images_in_folder(input_IBM_root_folder, output_IBM_root_folder)\n",
    "print('Images Processed Successfully')\n",
    "marhey_image_list = load_images_from_directory(output_Marhey_root_folder)\n",
    "lemonada_image_list = load_images_from_directory(output_Lemonada_root_folder)\n",
    "scheherazade_image_list = load_images_from_directory(output_Scheherazade_root_folder)\n",
    "ibm_image_list = load_images_from_directory(output_IBM_root_folder)\n",
    "print('Images Loaded Successfully')"
   ]
  },
  {
   "cell_type": "markdown",
   "metadata": {},
   "source": [
    "## Get Expected Outputs"
   ]
  },
  {
   "cell_type": "code",
   "execution_count": 6,
   "metadata": {},
   "outputs": [
    {
     "name": "stdout",
     "output_type": "stream",
     "text": [
      "Expected Output Generated :  [0, 0, 0, 0, 0, 1, 1, 1, 1, 1, 2, 2, 2, 2, 2, 3, 3, 3, 3, 3]\n"
     ]
    }
   ],
   "source": [
    "expected_output=[]\n",
    "expected_output.extend([0]*len(marhey_image_list))\n",
    "expected_output.extend([1]*len(lemonada_image_list))\n",
    "expected_output.extend([2]*len(scheherazade_image_list))\n",
    "expected_output.extend([3]*len(ibm_image_list))\n",
    "print('Expected Output Generated : ',expected_output)\n"
   ]
  },
  {
   "cell_type": "markdown",
   "metadata": {},
   "source": [
    "## Classify Font"
   ]
  },
  {
   "cell_type": "markdown",
   "metadata": {},
   "source": [
    "##### initializations"
   ]
  },
  {
   "cell_type": "code",
   "execution_count": 7,
   "metadata": {},
   "outputs": [],
   "source": [
    "\n",
    "count=[0,0,0,0]\n",
    "i=0"
   ]
  },
  {
   "cell_type": "markdown",
   "metadata": {},
   "source": [
    "##### Marhey"
   ]
  },
  {
   "cell_type": "code",
   "execution_count": 8,
   "metadata": {},
   "outputs": [
    {
     "name": "stdout",
     "output_type": "stream",
     "text": [
      "Predections = [1, 0, 1, 1]\n",
      "Final Predection =  Marhey\n",
      "-----------------\n",
      "Predections = [1, 0, 0, 0]\n",
      "Final Predection =  Marhey\n",
      "-----------------\n",
      "Predections = [1, 0, 0, 0]\n",
      "Final Predection =  Marhey\n",
      "-----------------\n",
      "Predections = [1, 0, 0, 0]\n",
      "Final Predection =  Marhey\n",
      "-----------------\n",
      "Predections = [1, 0, 0, 0]\n",
      "Final Predection =  Marhey\n",
      "-----------------\n"
     ]
    }
   ],
   "source": [
    "error_marhey=0\n",
    "j=0\n",
    "for image in marhey_image_list:\n",
    "    predections = []\n",
    "    cropped_images = crop_image(image,4,True)\n",
    "    if len(cropped_images)==0:\n",
    "        error_marhey+=1\n",
    "        j+=1\n",
    "        print('No Text detected')\n",
    "        print('-----------------')\n",
    "        # cv2.imshow('Marhey : No Text Detected',original_Marhey_images[j])\n",
    "        # cv2.waitKey(0)\n",
    "        # cv2.destroyAllWindows()\n",
    "        continue\n",
    "    for cropped in cropped_images:\n",
    "        prediction = model.predict([lpq.__call__(cropped)])\n",
    "        predections.append(prediction)\n",
    "        # print(prediction)\n",
    "        # print('-----------------')\n",
    "        cv2.imwrite(cropped_root_folder+'cropped_'+str(i)+'.png',cropped)\n",
    "        i+=1\n",
    "    count[0] =predections.count(0)\n",
    "    count[1] =predections.count(1)\n",
    "    count[2] =predections.count(2)\n",
    "    count[3] =predections.count(3)\n",
    "    final_predection = np.argmax(count)\n",
    "    if final_predection != 0:\n",
    "        error_marhey+=1\n",
    "        cv2.imshow('Marhey : Final Predection = '+fonts[ np.argmax(count)],original_Marhey_images[j])\n",
    "        cv2.waitKey(0)\n",
    "        cv2.destroyAllWindows()\n",
    "    print('Predections = '+str(count))\n",
    "    print('Final Predection = ',fonts[ np.argmax(count)])\n",
    "    print('-----------------')\n",
    "    # cv2.imshow('Final Predection = '+fonts[ np.argmax(count)],original_Marhey_images[j])\n",
    "    # cv2.waitKey(0)\n",
    "    # cv2.destroyAllWindows()\n",
    "    j+=1\n"
   ]
  },
  {
   "cell_type": "markdown",
   "metadata": {},
   "source": [
    "##### Lemonada"
   ]
  },
  {
   "cell_type": "code",
   "execution_count": 9,
   "metadata": {},
   "outputs": [
    {
     "name": "stdout",
     "output_type": "stream",
     "text": [
      "Predections = [0, 21, 0, 0]\n",
      "Final Predection =  Lemonada\n",
      "-----------------\n",
      "Predections = [0, 1, 0, 0]\n",
      "Final Predection =  Lemonada\n",
      "-----------------\n",
      "Predections = [0, 6, 0, 0]\n",
      "Final Predection =  Lemonada\n",
      "-----------------\n",
      "Predections = [0, 2, 0, 0]\n",
      "Final Predection =  Lemonada\n",
      "-----------------\n",
      "Predections = [0, 4, 0, 0]\n",
      "Final Predection =  Lemonada\n",
      "-----------------\n"
     ]
    }
   ],
   "source": [
    "j=0\n",
    "error_lemonada =0 \n",
    "for image in lemonada_image_list:\n",
    "    predections = []\n",
    "    cropped_images = crop_image(image,4,True)\n",
    "    if len(cropped_images)==0:\n",
    "        error_lemonada+=1\n",
    "        j+=1\n",
    "        print('No Text detected')\n",
    "        print('-----------------')\n",
    "        # cv2.imshow('Lemonada : No Text Detected',original_Lemonada_images[j])\n",
    "        # cv2.waitKey(0)\n",
    "        # cv2.destroyAllWindows()\n",
    "        continue\n",
    "    for cropped in cropped_images:\n",
    "        prediction = model.predict([lpq.__call__(cropped)])\n",
    "        predections.append(prediction)\n",
    "        # print(prediction)\n",
    "        # print('-----------------')\n",
    "        cv2.imwrite(cropped_root_folder+'cropped_'+str(i)+'.png',cropped)\n",
    "        i+=1\n",
    "    count[0] =predections.count(0)\n",
    "    count[1] =predections.count(1)\n",
    "    count[2] =predections.count(2)\n",
    "    count[3] =predections.count(3)\n",
    "    final_predection = np.argmax(count)\n",
    "    if final_predection != 1:\n",
    "        error_lemonada+=1\n",
    "        cv2.imshow('Lemonada : Final Predection = '+fonts[ np.argmax(count)],original_Lemonada_images[j])\n",
    "        cv2.waitKey(0)\n",
    "        cv2.destroyAllWindows()\n",
    "    print('Predections = '+str(count))\n",
    "    print('Final Predection = ',fonts[ np.argmax(count)])\n",
    "    print('-----------------')\n",
    "    # cv2.imshow('Final Predection = '+fonts[ np.argmax(count)],original_Lemonada_images[j])\n",
    "    # cv2.waitKey(0)\n",
    "    # cv2.destroyAllWindows()\n",
    "    j+=1\n"
   ]
  },
  {
   "cell_type": "markdown",
   "metadata": {},
   "source": [
    "##### Scheherazade New"
   ]
  },
  {
   "cell_type": "code",
   "execution_count": 10,
   "metadata": {},
   "outputs": [
    {
     "name": "stdout",
     "output_type": "stream",
     "text": [
      "Predections = [0, 0, 1, 0]\n",
      "Final Predection =  Scheherazade\n",
      "-----------------\n",
      "Predections = [1, 0, 2, 0]\n",
      "Final Predection =  Scheherazade\n",
      "-----------------\n",
      "Predections = [1, 0, 2, 0]\n",
      "Final Predection =  Scheherazade\n",
      "-----------------\n",
      "Predections = [0, 0, 1, 0]\n",
      "Final Predection =  Scheherazade\n",
      "-----------------\n",
      "Predections = [0, 0, 5, 0]\n",
      "Final Predection =  Scheherazade\n",
      "-----------------\n"
     ]
    }
   ],
   "source": [
    "j=0\n",
    "error_scheherazade =0\n",
    "for image in scheherazade_image_list:\n",
    "    predections = []\n",
    "    cropped_images = crop_image(image,4,True)\n",
    "    if len(cropped_images)==0:\n",
    "        error_scheherazade+=1\n",
    "        j+=1\n",
    "        print('No Text detected')\n",
    "        print('-----------------')\n",
    "        # cv2.imshow('Scheherazade : No Text Detected',original_Scheherazade_images[j])\n",
    "        # cv2.waitKey(0)\n",
    "        # cv2.destroyAllWindows()\n",
    "        continue\n",
    "    for cropped in cropped_images:\n",
    "        prediction = model.predict([lpq.__call__(cropped)])\n",
    "        predections.append(prediction)\n",
    "        cv2.imwrite(cropped_root_folder+'cropped_'+str(i)+'.png',cropped)\n",
    "        i+=1\n",
    "    count[0] =predections.count(0)\n",
    "    count[1] =predections.count(1)\n",
    "    count[2] =predections.count(2)\n",
    "    count[3] =predections.count(3)\n",
    "    final_predection = np.argmax(count)\n",
    "    if final_predection != 2:\n",
    "        error_scheherazade+=1\n",
    "        cv2.imshow('Scheherazade : Final Predection = '+fonts[ np.argmax(count)],original_Scheherazade_images[j])\n",
    "        cv2.waitKey(0)\n",
    "        cv2.destroyAllWindows()\n",
    "    print('Predections = '+str(count))\n",
    "    print('Final Predection = ',fonts[ np.argmax(count)])\n",
    "    print('-----------------')\n",
    "    # cv2.imshow('Final Predection = '+fonts[ np.argmax(count)],original_Scheherazade_images[j])\n",
    "    # cv2.waitKey(0)\n",
    "    # cv2.destroyAllWindows()\n",
    "    j+=1"
   ]
  },
  {
   "cell_type": "markdown",
   "metadata": {},
   "source": [
    "##### IBM Plex Sans Arabic"
   ]
  },
  {
   "cell_type": "code",
   "execution_count": 11,
   "metadata": {},
   "outputs": [
    {
     "name": "stdout",
     "output_type": "stream",
     "text": [
      "Predections = [0, 0, 0, 1]\n",
      "Final Predection =  IBM\n",
      "-----------------\n",
      "Predections = [0, 0, 0, 17]\n",
      "Final Predection =  IBM\n",
      "-----------------\n",
      "Predections = [0, 0, 0, 1]\n",
      "Final Predection =  IBM\n",
      "-----------------\n",
      "Predections = [0, 0, 0, 1]\n",
      "Final Predection =  IBM\n",
      "-----------------\n",
      "Predections = [0, 0, 0, 1]\n",
      "Final Predection =  IBM\n",
      "-----------------\n"
     ]
    }
   ],
   "source": [
    "j=0\n",
    "error_ibm = 0\n",
    "for image in ibm_image_list:\n",
    "    predections = []\n",
    "    cropped_images = crop_image(image,4,True)\n",
    "    if len(cropped_images)==0:\n",
    "        error_ibm+=1\n",
    "        j+=1\n",
    "        print('No Text detected')\n",
    "        print('-----------------')\n",
    "        cv2.imshow('IBM : No Text Detected',image)\n",
    "        cv2.waitKey(0)\n",
    "        cv2.destroyAllWindows()\n",
    "        continue\n",
    "    for cropped in cropped_images:\n",
    "        prediction = model.predict([lpq.__call__(cropped)])\n",
    "        predections.append(prediction)\n",
    "        cv2.imwrite(cropped_root_folder+'cropped_'+str(i)+'.png',cropped)\n",
    "        i+=1\n",
    "    count[0] =predections.count(0)\n",
    "    count[1] =predections.count(1)\n",
    "    count[2] =predections.count(2)\n",
    "    count[3] =predections.count(3)\n",
    "    final_predection = np.argmax(count)\n",
    "    if final_predection != 3:\n",
    "        error_ibm+=1\n",
    "        cv2.imshow('IBM : Final Predection = '+fonts[ np.argmax(count)],original_IBM_images[j])\n",
    "        cv2.waitKey(0)\n",
    "        cv2.destroyAllWindows()\n",
    "    print('Predections = '+str(count))\n",
    "    print('Final Predection = ',fonts[ np.argmax(count)])\n",
    "    print('-----------------')\n",
    "    # cv2.imshow('Final Predection = '+fonts[ np.argmax(count)],original_IBM_images[j])\n",
    "    # cv2.waitKey(0)\n",
    "    # cv2.destroyAllWindows()\n",
    "    j+=1"
   ]
  },
  {
   "cell_type": "markdown",
   "metadata": {},
   "source": [
    "## Get Accuracy"
   ]
  },
  {
   "cell_type": "markdown",
   "metadata": {},
   "source": [
    "#### Total Time Taken"
   ]
  },
  {
   "cell_type": "code",
   "execution_count": 12,
   "metadata": {},
   "outputs": [
    {
     "name": "stdout",
     "output_type": "stream",
     "text": [
      "Total Time Taken :  11.366183280944824\n"
     ]
    }
   ],
   "source": [
    "end_time = t.time()\n",
    "print('Total Time Taken : ',end_time-start_time)"
   ]
  },
  {
   "cell_type": "markdown",
   "metadata": {},
   "source": [
    "#### Accuracy for each font"
   ]
  },
  {
   "cell_type": "code",
   "execution_count": 13,
   "metadata": {},
   "outputs": [
    {
     "name": "stdout",
     "output_type": "stream",
     "text": [
      "Marhey =  100.0\n",
      "Lemonada =  100.0\n",
      "Scheherazade =  100.0\n",
      "IBM =  100.0\n"
     ]
    }
   ],
   "source": [
    "print('Marhey = ',(1-error_marhey/len(marhey_image_list))*100)\n",
    "print('Lemonada = ',(1-error_lemonada/len(lemonada_image_list))*100)\n",
    "print('Scheherazade = ',(1-error_scheherazade/len(scheherazade_image_list))*100)\n",
    "print('IBM = ',(1-error_ibm/len(ibm_image_list))*100)"
   ]
  },
  {
   "cell_type": "markdown",
   "metadata": {},
   "source": [
    "#### Overall Accuracy"
   ]
  },
  {
   "cell_type": "code",
   "execution_count": 14,
   "metadata": {},
   "outputs": [
    {
     "name": "stdout",
     "output_type": "stream",
     "text": [
      "Total Error =  0\n",
      "Total Images =  20\n",
      "Accuracy =  100.0\n"
     ]
    }
   ],
   "source": [
    "total_error = error_marhey+error_lemonada+error_scheherazade+error_ibm\n",
    "total_images = len(marhey_image_list)+len(lemonada_image_list)+len(scheherazade_image_list)+len(ibm_image_list)\n",
    "print('Total Error = ',total_error)\n",
    "print('Total Images = ',total_images)\n",
    "print('Accuracy = ',(1-total_error/total_images)*100)"
   ]
  }
 ],
 "metadata": {
  "kernelspec": {
   "display_name": "Python 3",
   "language": "python",
   "name": "python3"
  },
  "language_info": {
   "codemirror_mode": {
    "name": "ipython",
    "version": 3
   },
   "file_extension": ".py",
   "mimetype": "text/x-python",
   "name": "python",
   "nbconvert_exporter": "python",
   "pygments_lexer": "ipython3",
   "version": "3.10.11"
  }
 },
 "nbformat": 4,
 "nbformat_minor": 2
}
